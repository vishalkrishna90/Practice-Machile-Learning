{
 "cells": [
  {
   "cell_type": "markdown",
   "id": "f1765b65",
   "metadata": {},
   "source": [
    "**ONLY SELECT DATA WHOSE COUNT IS GREATER THEN A SPECIFIC RANGE**"
   ]
  },
  {
   "cell_type": "code",
   "execution_count": null,
   "id": "e95acc0d",
   "metadata": {},
   "outputs": [],
   "source": [
    "value_count = df5.column_name.value_counts()\n",
    "less_then_condition = column_name[column_name<specific_value]\n",
    "df5['New_Column'] = df5['column_name'].apply(lambda x: 'Others' if x in less_then_condition else x)"
   ]
  },
  {
   "cell_type": "code",
   "execution_count": null,
   "id": "f74ef829",
   "metadata": {},
   "outputs": [],
   "source": [
    "x = []\n",
    "y = []\n",
    "for i in df.Column:\n",
    "    x.append(i)\n",
    "for j in x:\n",
    "    if x.count(j)>specific_condition:\n",
    "        y.append(j)\n",
    "    else:\n",
    "        y.append('Others')"
   ]
  },
  {
   "cell_type": "markdown",
   "id": "9bf0892c",
   "metadata": {},
   "source": [
    "**APPLY IQR METHOD IN DATA**"
   ]
  },
  {
   "cell_type": "code",
   "execution_count": null,
   "id": "0618ee50",
   "metadata": {},
   "outputs": [],
   "source": [
    "low = df['Column'].quantile(0.25)\n",
    "high = df['Column'].quantile(0.75)\n",
    "iqr = high-low\n",
    "\n",
    "percentile_1 = low - 1.5 * iqr\n",
    "percentile_3 = low + 1.5 * iqr\n",
    "\n",
    "print(percentile_1,percentile_3)"
   ]
  }
 ],
 "metadata": {
  "kernelspec": {
   "display_name": "Python 3 (ipykernel)",
   "language": "python",
   "name": "python3"
  },
  "language_info": {
   "codemirror_mode": {
    "name": "ipython",
    "version": 3
   },
   "file_extension": ".py",
   "mimetype": "text/x-python",
   "name": "python",
   "nbconvert_exporter": "python",
   "pygments_lexer": "ipython3",
   "version": "3.7.13"
  }
 },
 "nbformat": 4,
 "nbformat_minor": 5
}
